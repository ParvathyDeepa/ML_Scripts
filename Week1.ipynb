{
 "cells": [
  {
   "cell_type": "code",
   "execution_count": 1,
   "id": "3c7c6ae1-d510-44c0-938a-63db0443e795",
   "metadata": {},
   "outputs": [
    {
     "name": "stdout",
     "output_type": "stream",
     "text": [
      "Prah\n",
      "avty\n"
     ]
    }
   ],
   "source": [
    "#Question 1\n",
    "x= 'Parvathy'\n",
    "print(x[::2])\n",
    "print(x[1::2])\n"
   ]
  },
  {
   "cell_type": "code",
   "execution_count": 42,
   "id": "2c80b524-5de5-4b7f-8dc5-fea966fbb057",
   "metadata": {},
   "outputs": [
    {
     "name": "stdout",
     "output_type": "stream",
     "text": [
      "('Parvathy', 'Deepa', 'Angel', 'Ritu', 'Govind', 'Peter', 'Andy')\n",
      "('Data Science', 'Data Analytics', 'IT', 'Maths', 'Political Science', 'Statistics', 'Computer Science')\n",
      "('p@gmail.com', 'd@gmail.com', 'i@gmail.com', 'r@gmail.com', 'm@gmail.com', 'p@gmail.com', 'a@gmail.com')\n"
     ]
    }
   ],
   "source": [
    "#Question 2\n",
    "Student_name=('Parvathy', 'Deepa')\n",
    "Course_name=('Data Science', 'Data Analytics')\n",
    "Email_address=('p@gmail.com', 'd@gmail.com')\n",
    "\n",
    "stu_name=Student_name+(\"Angel\", \"Ritu\", \"Govind\", \"Peter\", \"Andy\")\n",
    "crs_name=Course_name+(\"IT\", \"Maths\", \"Political Science\", \"Statistics\", \"Computer Science\")\n",
    "em_address=Email_address+(\"i@gmail.com\", \"r@gmail.com\", \"m@gmail.com\",\"p@gmail.com\", \"a@gmail.com\")\n",
    "print(stu_name)\n",
    "print(crs_name)\n",
    "print(em_address)"
   ]
  },
  {
   "cell_type": "code",
   "execution_count": 12,
   "id": "6374117e-791b-4484-a743-0e2b0f3e60e4",
   "metadata": {},
   "outputs": [
    {
     "name": "stdout",
     "output_type": "stream",
     "text": [
      "{('Parvathy', 'Deepa'): ('Parvathy', 'Deepa'), ('Data Science', 'Data Analytics'): ('Data Science', 'Data Analytics')}\n"
     ]
    }
   ],
   "source": [
    "#Question 3\n",
    "y={\n",
    "    Student_name:('Parvathy', 'Deepa'),\n",
    "    Course_name: ('Data Science', 'Data Analytics')\n",
    "    }\n",
    "print (y)"
   ]
  },
  {
   "cell_type": "code",
   "execution_count": 2,
   "id": "b652585b-777a-4eb4-b5aa-1f9e352e4eec",
   "metadata": {},
   "outputs": [
    {
     "name": "stdout",
     "output_type": "stream",
     "text": [
      "Natural Gas\n"
     ]
    }
   ],
   "source": [
    "#Question 4\n",
    "\n",
    "energy= 'Fossil'\n",
    "if(energy=='Fossil'):\n",
    "    print(\"Natural Gas\")\n",
    "elif(energy=='Renewable'):\n",
    "    print(\"Solar Power\")\n",
    "else:\n",
    "    print(\"Not in the list\")\n"
   ]
  },
  {
   "cell_type": "code",
   "execution_count": 41,
   "id": "9102c081-2907-42b1-bfa6-3304cf0c83e0",
   "metadata": {},
   "outputs": [
    {
     "name": "stdout",
     "output_type": "stream",
     "text": [
      "1\n",
      "\n",
      "\n",
      "2\n",
      "\n",
      "\n",
      "3\n",
      "\n",
      "\n",
      "5\n",
      "\n",
      "\n",
      "7\n",
      "\n",
      "\n",
      "11\n",
      "\n",
      "\n",
      "13\n",
      "\n",
      "\n",
      "17\n",
      "\n",
      "\n",
      "19\n",
      "\n",
      "\n",
      "23\n",
      "\n",
      "\n",
      "29\n",
      "\n",
      "\n",
      "31\n",
      "\n",
      "\n",
      "37\n",
      "\n",
      "\n",
      "41\n",
      "\n",
      "\n",
      "43\n",
      "\n",
      "\n",
      "47\n",
      "\n",
      "\n",
      "53\n",
      "\n",
      "\n",
      "59\n",
      "\n",
      "\n",
      "61\n",
      "\n",
      "\n",
      "67\n",
      "\n",
      "\n",
      "71\n",
      "\n",
      "\n",
      "73\n",
      "\n",
      "\n",
      "79\n",
      "\n",
      "\n",
      "83\n",
      "\n",
      "\n",
      "89\n",
      "\n",
      "\n",
      "97\n",
      "\n",
      "\n",
      "101\n",
      "\n",
      "\n"
     ]
    }
   ],
   "source": [
    "#Question 5\n",
    "\n",
    "#for loop to take values from 0 to 100\n",
    "for x in range(0,101):\n",
    "    count=0\n",
    "    #for loop to check the modulus\n",
    "    for y in range(1,x):\n",
    "        if((x+1)%y==0):\n",
    "            #prime numbers are divisible only by 1 and itself\n",
    "            count+=1\n",
    "    #checking if number is prime\n",
    "    if(count<2):\n",
    "        print(x+1)\n",
    "        print(\"\\n\")"
   ]
  },
  {
   "cell_type": "code",
   "execution_count": 32,
   "id": "87919b5c-48ea-4293-af7a-66749aa256c1",
   "metadata": {},
   "outputs": [
    {
     "name": "stdout",
     "output_type": "stream",
     "text": [
      "Count: 0\n",
      "Count: 1\n",
      "Count: 2\n",
      "Count: 3\n",
      "Count: 4\n"
     ]
    }
   ],
   "source": [
    "#Question 6\n",
    "\n",
    "# Example of breaking a loop before executing for the defined number of iterations\n",
    "count = 0\n",
    "while count < 10:\n",
    "    if count == 5:\n",
    "        break  # Break out of the loop when count reaches 5\n",
    "    print(\"Count:\", count)\n",
    "    count += 1\n"
   ]
  },
  {
   "cell_type": "code",
   "execution_count": 33,
   "id": "c2c31b50-26aa-4695-98cb-e19cedd9d0c3",
   "metadata": {},
   "outputs": [
    {
     "name": "stdout",
     "output_type": "stream",
     "text": [
      "Addition: 11\n",
      "Multiplication: 28\n",
      "Division: 0.5714285714285714\n",
      "Subtraction: -3\n"
     ]
    }
   ],
   "source": [
    "#Question 7\n",
    "\n",
    "#defining function for addition\n",
    "def Addition(x, y):\n",
    "    return x + y\n",
    "\n",
    "#defining function for addition\n",
    "def Multiplication(x, y):\n",
    "    return x * y\n",
    "\n",
    "#defining function for addition\n",
    "def Division(x, y):\n",
    "    return x / y\n",
    "\n",
    "#defining function for addition\n",
    "def Subtraction(x, y):\n",
    "    return x - y\n",
    "\n",
    "# Calling the functions with arguments (4, 7) and printing the outputs\n",
    "x = 4\n",
    "y = 7\n",
    "\n",
    "print(\"Addition:\", Addition(x, y))\n",
    "print(\"Multiplication:\", Multiplication(x, y))\n",
    "print(\"Division:\", Division(x, y))\n",
    "print(\"Subtraction:\", Subtraction(x, y))\n"
   ]
  },
  {
   "cell_type": "code",
   "execution_count": 34,
   "id": "e280a1bd-2f31-483e-adf4-5857261e6fc1",
   "metadata": {},
   "outputs": [
    {
     "name": "stdout",
     "output_type": "stream",
     "text": [
      "Identity Matrix:\n",
      "[[1. 0. 0. 0. 0. 0. 0. 0.]\n",
      " [0. 1. 0. 0. 0. 0. 0. 0.]\n",
      " [0. 0. 1. 0. 0. 0. 0. 0.]\n",
      " [0. 0. 0. 1. 0. 0. 0. 0.]\n",
      " [0. 0. 0. 0. 1. 0. 0. 0.]\n",
      " [0. 0. 0. 0. 0. 1. 0. 0.]\n",
      " [0. 0. 0. 0. 0. 0. 1. 0.]\n",
      " [0. 0. 0. 0. 0. 0. 0. 1.]]\n",
      "\n",
      "Random Matrix:\n",
      "[[0.73500042 0.67205693 0.87555034 0.20597216]\n",
      " [0.13024456 0.52319221 0.54934925 0.81089858]\n",
      " [0.66127934 0.6639486  0.37180826 0.36626568]\n",
      " [0.86490292 0.44588984 0.86242709 0.67062073]\n",
      " [0.84137971 0.97645931 0.71849909 0.70590668]\n",
      " [0.55453278 0.00732308 0.4176255  0.80315366]\n",
      " [0.94255052 0.81368288 0.7914093  0.4740902 ]\n",
      " [0.35342727 0.06851418 0.13505547 0.32744751]]\n",
      "\n",
      "Result Matrix:\n",
      "[[0.73500042 0.67205693 0.87555034 0.20597216]\n",
      " [0.13024456 0.52319221 0.54934925 0.81089858]\n",
      " [0.66127934 0.6639486  0.37180826 0.36626568]\n",
      " [0.86490292 0.44588984 0.86242709 0.67062073]\n",
      " [0.84137971 0.97645931 0.71849909 0.70590668]\n",
      " [0.55453278 0.00732308 0.4176255  0.80315366]\n",
      " [0.94255052 0.81368288 0.7914093  0.4740902 ]\n",
      " [0.35342727 0.06851418 0.13505547 0.32744751]]\n"
     ]
    }
   ],
   "source": [
    "#Question 8\n",
    "import numpy as np\n",
    "\n",
    "# Create an 8x8 identity matrix\n",
    "identity_matrix = np.eye(8)\n",
    "\n",
    "# Display the identity matrix\n",
    "print(\"Identity Matrix:\")\n",
    "print(identity_matrix)\n",
    "\n",
    "# Create an 8x4 random matrix\n",
    "random_matrix = np.random.rand(8, 4)\n",
    "\n",
    "# Display the random matrix\n",
    "print(\"\\nRandom Matrix:\")\n",
    "print(random_matrix)\n",
    "\n",
    "# Multiply the identity matrix with the random matrix\n",
    "result_matrix = np.dot(identity_matrix, random_matrix)\n",
    "\n",
    "# Display the result of the multiplication\n",
    "print(\"\\nResult Matrix:\")\n",
    "print(result_matrix)\n"
   ]
  },
  {
   "cell_type": "code",
   "execution_count": 36,
   "id": "d33dae72-bc6d-49cc-a52e-7e59e67ddd46",
   "metadata": {},
   "outputs": [
    {
     "name": "stdout",
     "output_type": "stream",
     "text": [
      "Original Matrix:\n",
      "[[0.5759251  0.81508354 0.0101097  0.9676248  0.74092034 0.30527806\n",
      "  0.84244353 0.12887124 0.97886293]\n",
      " [0.5587343  0.67533216 0.58006872 0.53983538 0.54111431 0.22218437\n",
      "  0.38440509 0.73459395 0.95306516]\n",
      " [0.23344036 0.54148304 0.63774432 0.80333903 0.34605754 0.27956965\n",
      "  0.6259601  0.40438193 0.06374546]\n",
      " [0.87714003 0.91093568 0.29602653 0.62227292 0.96384079 0.00934243\n",
      "  0.60686181 0.73048523 0.66691199]\n",
      " [0.51475103 0.72041696 0.89952663 0.82983729 0.34745061 0.04570765\n",
      "  0.82205782 0.40484969 0.60201927]\n",
      " [0.88291087 0.99093307 0.30325127 0.55243628 0.96358251 0.65292141\n",
      "  0.27724961 0.60405662 0.37612702]\n",
      " [0.87501434 0.46551308 0.40643362 0.26473443 0.39477795 0.26654628\n",
      "  0.03706632 0.97639484 0.7318225 ]\n",
      " [0.21552486 0.82766442 0.60093052 0.17580114 0.58010073 0.09232124\n",
      "  0.44198203 0.59276184 0.69746407]]\n",
      "\n",
      "Transposed Matrix:\n",
      "[[0.5759251  0.5587343  0.23344036 0.87714003 0.51475103 0.88291087\n",
      "  0.87501434 0.21552486]\n",
      " [0.81508354 0.67533216 0.54148304 0.91093568 0.72041696 0.99093307\n",
      "  0.46551308 0.82766442]\n",
      " [0.0101097  0.58006872 0.63774432 0.29602653 0.89952663 0.30325127\n",
      "  0.40643362 0.60093052]\n",
      " [0.9676248  0.53983538 0.80333903 0.62227292 0.82983729 0.55243628\n",
      "  0.26473443 0.17580114]\n",
      " [0.74092034 0.54111431 0.34605754 0.96384079 0.34745061 0.96358251\n",
      "  0.39477795 0.58010073]\n",
      " [0.30527806 0.22218437 0.27956965 0.00934243 0.04570765 0.65292141\n",
      "  0.26654628 0.09232124]\n",
      " [0.84244353 0.38440509 0.6259601  0.60686181 0.82205782 0.27724961\n",
      "  0.03706632 0.44198203]\n",
      " [0.12887124 0.73459395 0.40438193 0.73048523 0.40484969 0.60405662\n",
      "  0.97639484 0.59276184]\n",
      " [0.97886293 0.95306516 0.06374546 0.66691199 0.60201927 0.37612702\n",
      "  0.7318225  0.69746407]]\n",
      "\n",
      "Shape of Original Matrix: (8, 9)\n",
      "Shape of Transposed Matrix: (9, 8)\n"
     ]
    }
   ],
   "source": [
    "#Question 9\n",
    "import numpy as np\n",
    "\n",
    "# Create an 8x9 matrix with random values\n",
    "matrix = np.random.rand(8, 9)\n",
    "\n",
    "# Print the original matrix\n",
    "print(\"Original Matrix:\")\n",
    "print(matrix)\n",
    "\n",
    "# Transpose the matrix\n",
    "transposed_matrix = np.transpose(matrix)\n",
    "\n",
    "# Print the transposed matrix\n",
    "print(\"\\nTransposed Matrix:\")\n",
    "print(transposed_matrix)\n",
    "\n",
    "# Check the shape of the original and transposed matrices\n",
    "print(\"\\nShape of Original Matrix:\", matrix.shape)\n",
    "print(\"Shape of Transposed Matrix:\", transposed_matrix.shape)\n"
   ]
  },
  {
   "cell_type": "code",
   "execution_count": 40,
   "id": "2e810606-3cdd-4174-a165-dd261792e920",
   "metadata": {},
   "outputs": [
    {
     "name": "stdout",
     "output_type": "stream",
     "text": [
      "Number of data instances: 525005\n",
      "Number of variables: 7\n",
      "\n",
      "Original values of the third variable:\n",
      "0          75\n",
      "1          75\n",
      "2          75\n",
      "3          75\n",
      "4          75\n",
      "         ... \n",
      "525000    142\n",
      "525001    142\n",
      "525002    142\n",
      "525003    142\n",
      "525004    142\n",
      "Name: LocationID, Length: 525005, dtype: int64\n",
      "\n",
      "Modified values of the third variable (mean deducted):\n",
      "0         21.822695\n",
      "1         21.822695\n",
      "2         21.822695\n",
      "3         21.822695\n",
      "4         21.822695\n",
      "            ...    \n",
      "525000    88.822695\n",
      "525001    88.822695\n",
      "525002    88.822695\n",
      "525003    88.822695\n",
      "525004    88.822695\n",
      "Name: LocationID, Length: 525005, dtype: float64\n"
     ]
    }
   ],
   "source": [
    "#Question 10\n",
    "import pandas as pd\n",
    "import csv\n",
    "\n",
    "# Load the dataset\n",
    "data = pd.read_csv(\"pedestrian-counting.csv\")\n",
    "\n",
    "# Display the number of data instances and variables\n",
    "num_instances, num_variables = data.shape\n",
    "print(\"Number of data instances:\", num_instances)\n",
    "print(\"Number of variables:\", num_variables)\n",
    "\n",
    "# Extract the third variable\n",
    "third_variable = data.iloc[:, 2]\n",
    "\n",
    "# Calculate the mean of the third variable\n",
    "mean_third_variable = third_variable.mean()\n",
    "\n",
    "# Deduct the mean from the original values\n",
    "modified_third_variable = third_variable - mean_third_variable\n",
    "\n",
    "# Print both original and modified values of the variable\n",
    "print(\"\\nOriginal values of the third variable:\")\n",
    "print(third_variable)\n",
    "print(\"\\nModified values of the third variable (mean deducted):\")\n",
    "print(modified_third_variable)\n"
   ]
  },
  {
   "cell_type": "code",
   "execution_count": null,
   "id": "6410beb4-a91b-413d-bf08-3ae7d1f68975",
   "metadata": {},
   "outputs": [],
   "source": []
  }
 ],
 "metadata": {
  "kernelspec": {
   "display_name": "Python 3 (ipykernel)",
   "language": "python",
   "name": "python3"
  },
  "language_info": {
   "codemirror_mode": {
    "name": "ipython",
    "version": 3
   },
   "file_extension": ".py",
   "mimetype": "text/x-python",
   "name": "python",
   "nbconvert_exporter": "python",
   "pygments_lexer": "ipython3",
   "version": "3.11.7"
  }
 },
 "nbformat": 4,
 "nbformat_minor": 5
}
